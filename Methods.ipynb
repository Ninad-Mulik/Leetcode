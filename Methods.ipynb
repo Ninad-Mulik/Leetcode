{
 "cells": [
  {
   "cell_type": "code",
   "execution_count": 71,
   "id": "e14a1f3f",
   "metadata": {},
   "outputs": [],
   "source": [
    "a = 1215"
   ]
  },
  {
   "cell_type": "code",
   "execution_count": 72,
   "id": "48ad51de",
   "metadata": {},
   "outputs": [
    {
     "data": {
      "text/plain": [
       "5"
      ]
     },
     "execution_count": 72,
     "metadata": {},
     "output_type": "execute_result"
    }
   ],
   "source": [
    "b = a % 10\n",
    "b"
   ]
  },
  {
   "cell_type": "code",
   "execution_count": 73,
   "id": "26a9b520",
   "metadata": {},
   "outputs": [
    {
     "data": {
      "text/plain": [
       "121"
      ]
     },
     "execution_count": 73,
     "metadata": {},
     "output_type": "execute_result"
    }
   ],
   "source": [
    "c = a // 10\n",
    "c"
   ]
  },
  {
   "cell_type": "code",
   "execution_count": 74,
   "id": "32a71f93",
   "metadata": {},
   "outputs": [
    {
     "data": {
      "text/plain": [
       "1215"
      ]
     },
     "execution_count": 74,
     "metadata": {},
     "output_type": "execute_result"
    }
   ],
   "source": [
    "d = c *10 + b\n",
    "d"
   ]
  },
  {
   "cell_type": "markdown",
   "id": "10edf059",
   "metadata": {},
   "source": [
    "Given an integer x, return true if x is a \n",
    "palindrome\n",
    ", and false otherwise.\n",
    "\n",
    " \n",
    "\n",
    "Example 1:\n",
    "\n",
    "Input: x = 121\n",
    "Output: true\n",
    "Explanation: 121 reads as 121 from left to right and from right to left.\n",
    "Example 2:\n",
    "\n",
    "Input: x = -121\n",
    "Output: false\n",
    "Explanation: From left to right, it reads -121. From right to left, it becomes 121-. Therefore it is not a palindrome.\n",
    "Example 3:\n",
    "\n",
    "Input: x = 10\n",
    "Output: false\n",
    "Explanation: Reads 01 from right to left. Therefore it is not a palindrome.\n",
    " "
   ]
  },
  {
   "cell_type": "code",
   "execution_count": 92,
   "id": "ee800b63",
   "metadata": {},
   "outputs": [],
   "source": [
    "class Solution:\n",
    "    def isPalindrome(self, x: int) -> bool:\n",
    "\n",
    "        if x < 0:\n",
    "            return False\n",
    "\n",
    "        counter_x = x\n",
    "        original_x = x\n",
    "        reverse_x = 0\n",
    "\n",
    "        while counter_x != 0 :\n",
    "\n",
    "            digit = counter_x % 10\n",
    "            counter_x = counter_x // 10\n",
    "            reverse_x = reverse_x *10 + digit\n",
    "\n",
    "        if reverse_x == original_x:\n",
    "            return True \n",
    "        else:\n",
    "            return False"
   ]
  },
  {
   "cell_type": "code",
   "execution_count": 96,
   "id": "80af98a8",
   "metadata": {},
   "outputs": [
    {
     "data": {
      "text/plain": [
       "True"
      ]
     },
     "execution_count": 96,
     "metadata": {},
     "output_type": "execute_result"
    }
   ],
   "source": [
    "solution = Solution()\n",
    "solution.isPalindrome(121)"
   ]
  },
  {
   "cell_type": "code",
   "execution_count": 98,
   "id": "8c17acac",
   "metadata": {},
   "outputs": [],
   "source": [
    "\n",
    "def Palindrome(x):\n",
    "    palindrome = []\n",
    "\n",
    "    for digits in str(x):\n",
    "        palindrome.append(digits)\n",
    "\n",
    "    start = 0\n",
    "    end = len(str(x))-1   \n",
    "    for index in range(len(palindrome)):\n",
    "        if palindrome[start] != palindrome[end]:\n",
    "            return False\n",
    "        else:\n",
    "            start +=1\n",
    "            end-=1\n",
    "\n",
    "    return True\n",
    "    \n"
   ]
  },
  {
   "cell_type": "code",
   "execution_count": 100,
   "id": "7e086817",
   "metadata": {},
   "outputs": [
    {
     "data": {
      "text/plain": [
       "True"
      ]
     },
     "execution_count": 100,
     "metadata": {},
     "output_type": "execute_result"
    }
   ],
   "source": [
    "Palindrome(525)"
   ]
  },
  {
   "cell_type": "code",
   "execution_count": null,
   "id": "94d0a3f0",
   "metadata": {},
   "outputs": [],
   "source": []
  }
 ],
 "metadata": {
  "kernelspec": {
   "display_name": "Python 3 (ipykernel)",
   "language": "python",
   "name": "python3"
  },
  "language_info": {
   "codemirror_mode": {
    "name": "ipython",
    "version": 3
   },
   "file_extension": ".py",
   "mimetype": "text/x-python",
   "name": "python",
   "nbconvert_exporter": "python",
   "pygments_lexer": "ipython3",
   "version": "3.11.5"
  }
 },
 "nbformat": 4,
 "nbformat_minor": 5
}
